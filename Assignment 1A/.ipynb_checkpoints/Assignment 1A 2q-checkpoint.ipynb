{
 "cells": [
  {
   "cell_type": "code",
   "execution_count": 1,
   "metadata": {},
   "outputs": [],
   "source": [
    "\n",
    "# numpy handles pretty much anything that is a number/vector/matrix/array\n",
    "import numpy as np\n",
    "# pandas handles dataframes (exactly the same as tables in Matlab)\n",
    "import pandas as pd\n",
    "# matplotlib emulates Matlabs plotting functionality\n",
    "import matplotlib.pyplot as plt\n",
    "# stats models is a package that is going to perform the regression analysis\n",
    "from statsmodels import api as sm\n",
    "from scipy import stats\n",
    "from sklearn.metrics import mean_squared_error\n",
    "# os allows us to manipulate variables on out local machine, such as paths and environment variables\n",
    "import os\n",
    "# self explainatory, dates and times\n",
    "from datetime import datetime, date\n",
    "# a helper package to help us iterate over objects\n",
    "import itertools\n",
    "\n",
    "from sklearn.metrics import plot_confusion_matrix\n",
    "\n",
    "#import linear regressor model from sk learn \n",
    "from sklearn.linear_model import LinearRegression\n",
    "from sklearn.model_selection import train_test_split\n",
    "from sklearn.metrics import classification_report\n",
    "from sklearn.metrics import mean_squared_error, r2_score\n",
    "from sklearn import linear_model\n",
    "from sklearn.model_selection import GridSearchCV\n",
    "\n",
    "import statsmodels.api as sm\n",
    "\n",
    "from sklearn.neighbors import KNeighborsClassifier\n",
    "from sklearn.metrics import confusion_matrix\n",
    "from sklearn.metrics import accuracy_score\n",
    "\n",
    "from sklearn.ensemble import RandomForestClassifier\n",
    "\n",
    "from sklearn.pipeline import make_pipeline\n",
    "from sklearn.preprocessing import StandardScaler\n",
    "from sklearn.svm import SVC\n",
    "\n",
    "from sklearn.utils import shuffle"
   ]
  },
  {
   "cell_type": "code",
   "execution_count": 2,
   "metadata": {},
   "outputs": [
    {
     "name": "stdout",
     "output_type": "stream",
     "text": [
      "<bound method NDFrame.head of     class  b1  b2  b3   b4  b5   b6   b7  b8  b9  ...  pred_minus_obs_H_b9  \\\n",
      "0      d   39  36  57   91  59  101   93  27  60  ...                -2.36   \n",
      "1      h   84  30  57  112  51   98   92  26  62  ...                -2.26   \n",
      "2      s   53  25  49   99  51   93   84  26  58  ...                -1.46   \n",
      "3      s   59  26  49  103  47   92   82  25  56  ...                 2.68   \n",
      "4      d   57  49  66  103  64  106  114  28  59  ...                -2.94   \n",
      "..    ...  ..  ..  ..  ...  ..  ...  ...  ..  ..  ...                  ...   \n",
      "193    d   55  61  90   75  55   91   84  24  54  ...                 1.28   \n",
      "194    d   66  69  93   90  63  100   99  25  57  ...                -1.50   \n",
      "195    h   79  30  55  115  51   96  109  25  59  ...                -3.66   \n",
      "196    h   69  27  53  106  47   90   87  24  55  ...                -0.88   \n",
      "197    h   80  29  55  116  50   95  102  25  59  ...                -4.19   \n",
      "\n",
      "     pred_minus_obs_S_b1  pred_minus_obs_S_b2  pred_minus_obs_S_b3  \\\n",
      "0                 -18.41                -1.88                -6.43   \n",
      "1                 -16.27                -1.95                -6.25   \n",
      "2                 -15.92                -1.79                -4.64   \n",
      "3                 -13.77                -2.53                -6.34   \n",
      "4                 -21.74                -1.64                -4.62   \n",
      "..                   ...                  ...                  ...   \n",
      "193               -20.84                -1.47                -5.72   \n",
      "194               -19.64                -1.45                -5.60   \n",
      "195               -22.40                -3.91                -6.61   \n",
      "196               -13.32                 0.16                -2.39   \n",
      "197               -21.98                -2.12                -6.03   \n",
      "\n",
      "     pred_minus_obs_S_b4  pred_minus_obs_S_b5  pred_minus_obs_S_b6  \\\n",
      "0                 -21.03                -1.60                -6.18   \n",
      "1                 -18.79                -1.99                -6.18   \n",
      "2                 -17.73                -0.48                -4.69   \n",
      "3                 -22.03                -2.34                -6.60   \n",
      "4                 -23.74                -0.85                -5.50   \n",
      "..                   ...                  ...                  ...   \n",
      "193               -18.73                -1.18                -5.22   \n",
      "194               -17.03                -1.08                -5.15   \n",
      "195               -36.29                -2.13                -5.77   \n",
      "196                -7.12                 0.02                -2.06   \n",
      "197               -26.08                -1.67                -5.82   \n",
      "\n",
      "     pred_minus_obs_S_b7  pred_minus_obs_S_b8  pred_minus_obs_S_b9  \n",
      "0                 -22.50                -5.20                -7.86  \n",
      "1                 -23.41                -8.87               -10.83  \n",
      "2                 -19.97                -4.10                -7.07  \n",
      "3                 -27.10                -7.99               -10.81  \n",
      "4                 -22.83                -2.74                -5.84  \n",
      "..                   ...                  ...                  ...  \n",
      "193               -17.81                -1.28                -3.87  \n",
      "194               -16.77                -1.46                -4.03  \n",
      "195               -23.32                -2.09                -4.13  \n",
      "196               -10.04                -0.74                -2.88  \n",
      "197               -20.91                -0.90                -3.70  \n",
      "\n",
      "[198 rows x 28 columns]>\n",
      "(198, 27)\n",
      "(198,)\n",
      "(99, 27)\n",
      "(99,)\n"
     ]
    }
   ],
   "source": [
    "#extract data from csv \n",
    "training_data = pd.read_csv('CAB420_Assessment_1A_Data/Data/Q2/training.csv')\n",
    "testing_data = pd.read_csv('CAB420_Assessment_1A_Data/Data/Q2/testing.csv')\n",
    "print(training_data.head)\n",
    "\n",
    "#splite data to X and Y\n",
    "Y_train = training_data.iloc[:, :1]\n",
    "X_train = training_data.iloc[:, 1:]\n",
    "\n",
    "Y_test = training_data.iloc[:, :1]\n",
    "X_test = training_data.iloc[:, 1:]\n",
    "\n",
    "#convert to numpy array (sklearn wont accept pd dataframe )\n",
    "\n",
    "X_train = X_train.to_numpy()\n",
    "Y_train = Y_train.to_numpy().ravel()\n",
    "\n",
    "X_test = X_test.to_numpy()\n",
    "Y_test = Y_test.to_numpy().ravel()\n",
    "\n",
    "#splite data into testing/validation\n",
    "X_test, X_valid, Y_test, Y_valid = train_test_split(X_test,Y_test, train_size = 0.5, random_state = 0)\n",
    "\n",
    "#shuffle data\n",
    "X_train, Y_train = shuffle(X_train, Y_train, random_state=None)\n",
    "\n",
    "print(X_train.shape)\n",
    "print(Y_train.shape)\n",
    "print(X_test.shape)\n",
    "print(Y_test.shape)\n",
    "\n",
    "#print(Y_test)"
   ]
  },
  {
   "cell_type": "code",
   "execution_count": 3,
   "metadata": {},
   "outputs": [],
   "source": [
    "def eval_model(model, X_train, Y_train, X_test, Y_test):\n",
    "    fig = plt.figure(figsize=[25, 8])\n",
    "    ax = fig.add_subplot(1, 2, 1)\n",
    "    conf = plot_confusion_matrix(model, X_train, Y_train, normalize=None, xticks_rotation='vertical', ax=ax)\n",
    "    pred = model.predict(X_train)\n",
    "    conf.ax_.set_title('Training Set Performance: ' + str(sum(pred == Y_train)/len(Y_train)));\n",
    "    ax = fig.add_subplot(1, 2, 2)\n",
    "    conf = plot_confusion_matrix(model, X_test, Y_test, normalize=None, xticks_rotation='vertical', ax=ax)\n",
    "    pred = model.predict(X_test)\n",
    "    conf.ax_.set_title('Testing Set Performance: ' + str(sum(pred == Y_test)/len(Y_test)));\n",
    "    "
   ]
  },
  {
   "cell_type": "code",
   "execution_count": 4,
   "metadata": {},
   "outputs": [
    {
     "name": "stdout",
     "output_type": "stream",
     "text": [
      "K Neighbour ---------------------------\n",
      "Grid search\n",
      "0.9191666666666666\n",
      "{'algorithm': 'auto', 'leaf_size': 1, 'n_neighbors': 5, 'p': 1, 'weights': 'uniform'}\n",
      "[1.0, 0.9696969696969697, 0.9797979797979798, 0.9545454545454546, 0.9646464646464646, 0.9444444444444444, 0.9545454545454546, 0.9444444444444444, 0.9545454545454546, 0.9444444444444444] [1.0, 1.0, 1.0, 0.98989898989899, 0.98989898989899, 0.9797979797979798, 0.9797979797979798, 0.9797979797979798, 0.9797979797979798, 0.9797979797979798]\n",
      "using real data\n",
      "0.98989898989899\n",
      "[[29  0  1  0]\n",
      " [ 0 28  0  0]\n",
      " [ 0  0 25  0]\n",
      " [ 0  0  0 16]]\n"
     ]
    }
   ],
   "source": [
    "print(\"K Neighbour ---------------------------\")\n",
    "\n",
    "\n",
    "\n",
    "print(\"Grid search\")\n",
    "\n",
    "clf = GridSearchCV(KNeighborsClassifier(),{\n",
    "        'n_neighbors' : [1,2,3,4,5,7,9,50,70],\n",
    "        'weights' : ['uniform', 'distance'],\n",
    "        'algorithm' : ['auto', 'ball_tree', 'kd_tree', 'brute'],\n",
    "        'leaf_size' : [1,5,10,15,20,25,30,35,40],\n",
    "        'p' : [1,2],\n",
    "        #'n_jobs' : [1,-1],\n",
    "\n",
    "        },cv = 4,return_train_score = False)\n",
    "clf.fit(X_valid,Y_valid)\n",
    "#print(clf.cv_results_)\n",
    "print(clf.best_score_)\n",
    "print(clf.best_params_)\n",
    "\n",
    "training_accuracy=[]\n",
    "test_accuracy=[]\n",
    "neighbors_settings=range(1,11)\n",
    "\n",
    "for n_neighbors in neighbors_settings:\n",
    "    knn=KNeighborsClassifier(n_neighbors)\n",
    "    knn.fit(X_train,Y_train)\n",
    "    training_accuracy.append(knn.score(X_train,Y_train))\n",
    "    test_accuracy.append(knn.score(X_test,Y_test))\n",
    "\n",
    "print(training_accuracy,test_accuracy)\n",
    "\n",
    "print(\"using real data\")\n",
    "\n",
    "#build/train K neighbour clf \n",
    "K_neigh = KNeighborsClassifier(algorithm= 'auto', leaf_size= 1, n_neighbors= 3, p= 1, weights= 'uniform')\n",
    "K_neigh.fit(X_train, Y_train)\n",
    "\n",
    "y_pred = K_neigh.predict(X_test)\n",
    "\n",
    "\n",
    "#accuracy\n",
    "score = accuracy_score(Y_test, y_pred)\n",
    "print(score)\n",
    "#visuals   \n",
    "vis = confusion_matrix(Y_test, y_pred, labels=[\"s \", \"d \", \"h \",\"o \"])\n",
    "print(vis)\n"
   ]
  },
  {
   "cell_type": "code",
   "execution_count": 5,
   "metadata": {},
   "outputs": [
    {
     "data": {
      "image/png": "[encoded data removed]",
      "text/plain": [
       "<Figure size 1800x576 with 4 Axes>"
      ]
     },
     "metadata": {
      "needs_background": "light"
     },
     "output_type": "display_data"
    }
   ],
   "source": [
    "eval_model(K_neigh,X_train,Y_train,X_test,Y_test)\n"
   ]
  },
  {
   "cell_type": "code",
   "execution_count": 6,
   "metadata": {
    "scrolled": true
   },
   "outputs": [
    {
     "data": {
      "text/plain": [
       "<matplotlib.legend.Legend at 0x12a3b1d3848>"
      ]
     },
     "execution_count": 6,
     "metadata": {},
     "output_type": "execute_result"
    },
    {
     "data": {
      "image/png": "[encoded data removed]",
      "text/plain": [
       "<Figure size 432x288 with 1 Axes>"
      ]
     },
     "metadata": {
      "needs_background": "light"
     },
     "output_type": "display_data"
    }
   ],
   "source": [
    "plt.plot(neighbors_settings,training_accuracy,label='Training Accuracy')\n",
    "plt.plot(neighbors_settings,test_accuracy,label='Test Accuracy')\n",
    "plt.ylabel('Accuracy')\n",
    "plt.xlabel('n_neighbors')\n",
    "plt.legend()"
   ]
  },
  {
   "cell_type": "code",
   "execution_count": null,
   "metadata": {},
   "outputs": [
    {
     "name": "stdout",
     "output_type": "stream",
     "text": [
      "Ran forest ---------------------------\n",
      "Grid search\n"
     ]
    }
   ],
   "source": [
    "print(\"Ran forest ---------------------------\")\n",
    "\n",
    "\n",
    "print(\"Grid search\")\n",
    "\n",
    "clf = GridSearchCV(RandomForestClassifier(),{\n",
    "        'n_estimators' : [25,50,75,100,125],\n",
    "        'criterion' : ['gini', 'entropy'],\n",
    "        'max_depth' : [20,30,40,50,None],\n",
    "        'min_samples_split' : [2,3,4,10],\n",
    "        'min_samples_leaf' : [1,2,3,4,10],\n",
    "\n",
    "        },cv = 4,return_train_score = False)\n",
    "clf.fit(X_valid,Y_valid)\n",
    "#print(clf.cv_results_)\n",
    "print(clf.best_score_)\n",
    "print(clf.best_params_)\n",
    "\n",
    "print(\"using real data\")\n",
    "\n",
    "#build/train random forest clf \n",
    "forest = RandomForestClassifier(criterion= 'gini', max_depth=40, min_samples_leaf= 2, min_samples_split= 4, n_estimators= 25)\n",
    "#forest = RandomForestClassifier() \n",
    "forest.fit(X_train, Y_train)\n",
    "\n",
    "y_pred = forest.predict(X_test)\n",
    "\n",
    "\n",
    "#accuracy\n",
    "score = accuracy_score(Y_test, y_pred)\n",
    "print(score)\n",
    "#visuals   \n",
    "vis = confusion_matrix(Y_test, y_pred, labels=[\"s \", \"d \", \"h \",\"o \"])\n",
    "print(vis)\n",
    "\n",
    "eval_model(K_neigh,X_train,Y_train,X_test,Y_test)\n",
    "\n",
    "plt.plot(neighbors_settings,training_accuracy,label='Training Accuracy')\n",
    "plt.plot(neighbors_settings,test_accuracy,label='Test Accuracy')\n",
    "plt.ylabel('Accuracy')\n",
    "plt.xlabel('n_neighbors')\n",
    "plt.legend()"
   ]
  },
  {
   "cell_type": "code",
   "execution_count": null,
   "metadata": {},
   "outputs": [],
   "source": [
    "print(\"SVC ---------------------------\")\n",
    "\n",
    "\n",
    "print(\"Grid search\")\n",
    "clf = GridSearchCV(SVC(),{\n",
    "        'C' : [1,2,3,4,5],\n",
    "        'kernel' : ['linear', 'poly', 'rbf', 'sigmoid'],\n",
    "        'shrinking' : [True,False],\n",
    "        'probability' : [True,False],\n",
    "        'tol' : [1e-1,1e-2,1e-3,5e-3,9e-3,1e-4],\n",
    "\n",
    "        },cv = 4,return_train_score = False)\n",
    "\n",
    "#make_pipeline(StandardScaler(), clf).fit(X_valid,Y_valid)\n",
    "clf.fit(X_valid,Y_valid)\n",
    "\n",
    "#print(clf.cv_results_)\n",
    "print(clf.best_score_)\n",
    "print(clf.best_params_)\n",
    "\n",
    "\n",
    "print(\"using real data\")\n",
    "\n",
    "#build/train SVM clf \n",
    "SVM = make_pipeline(StandardScaler(), SVC(C= 4, kernel= 'rbf', probability= True, shrinking= True, tol= 0.1))\n",
    "SVM.fit(X_train, Y_train)\n",
    "\n",
    "y_pred = SVM.predict(X_test)\n",
    "\n",
    "\n",
    "#accuracy\n",
    "score = accuracy_score(Y_test, y_pred)\n",
    "print(score)\n",
    "#visuals   \n",
    "vis = confusion_matrix(Y_test, y_pred, labels=[\"s \", \"d \", \"h \",\"o \"])\n",
    "print(vis)\n"
   ]
  },
  {
   "cell_type": "code",
   "execution_count": null,
   "metadata": {},
   "outputs": [],
   "source": [
    "eval_model(SVM,X_train,Y_train,X_test,Y_test)"
   ]
  },
  {
   "cell_type": "code",
   "execution_count": null,
   "metadata": {},
   "outputs": [],
   "source": [
    "pass"
   ]
  },
  {
   "cell_type": "code",
   "execution_count": null,
   "metadata": {},
   "outputs": [],
   "source": []
  }
 ],
 "metadata": {
  "kernelspec": {
   "display_name": "Python 3",
   "language": "python",
   "name": "python3"
  },
  "language_info": {
   "codemirror_mode": {
    "name": "ipython",
    "version": 3
   },
   "file_extension": ".py",
   "mimetype": "text/x-python",
   "name": "python",
   "nbconvert_exporter": "python",
   "pygments_lexer": "ipython3",
   "version": "3.7.9"
  }
 },
 "nbformat": 4,
 "nbformat_minor": 5
}
