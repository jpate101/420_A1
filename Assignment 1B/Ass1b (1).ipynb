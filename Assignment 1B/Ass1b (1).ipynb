{
 "cells": [
  {
   "cell_type": "code",
   "execution_count": 119,
   "metadata": {},
   "outputs": [],
   "source": [
    "import os\n",
    "import numpy as np\n",
    "from PIL import Image"
   ]
  },
  {
   "cell_type": "markdown",
   "metadata": {},
   "source": [
    "## load data"
   ]
  },
  {
   "cell_type": "code",
   "execution_count": 127,
   "metadata": {},
   "outputs": [],
   "source": [
    "def load_data(data_path):\n",
    "    img_names = [data_path + img_name for img_name in os.listdir(data_path)]\n",
    "    img_array, img_label = list(), list()\n",
    "    for img_name in img_names:\n",
    "        img = np.array(Image.open(img_name))\n",
    "        label = int(img_name.split('/')[-1].split('_')[0])\n",
    "        img_array.append(img)\n",
    "        img_label.append(label - 1)\n",
    "    img_array, img_label = np.array(img_array), np.array(img_label)\n",
    "    return img_array, img_label"
   ]
  },
  {
   "cell_type": "markdown",
   "metadata": {},
   "source": [
    "## load training data"
   ]
  },
  {
   "cell_type": "code",
   "execution_count": 128,
   "metadata": {
    "scrolled": true
   },
   "outputs": [
    {
     "name": "stdout",
     "output_type": "stream",
     "text": [
      "Total Training Images :  5933\n",
      "Training Image Shape  :  (128, 64, 3)\n"
     ]
    }
   ],
   "source": [
    "train_path = './Q2/Training/'\n",
    "train_imgs, train_labels = load_data(train_path)\n",
    "print('Total Training Images : ', train_imgs.shape[0])\n",
    "print('Training Image Shape  : ', train_imgs[0].shape)"
   ]
  },
  {
   "cell_type": "markdown",
   "metadata": {},
   "source": [
    "## load Gallery data"
   ]
  },
  {
   "cell_type": "code",
   "execution_count": 130,
   "metadata": {},
   "outputs": [
    {
     "name": "stdout",
     "output_type": "stream",
     "text": [
      "Total Gallery Images :  301\n",
      "Gallery Image Shape  :  (128, 64, 3)\n"
     ]
    }
   ],
   "source": [
    "gallery_path = './Q2/Testing/Gallery/'\n",
    "gallery_imgs, gallery_label = load_data(gallery_path)\n",
    "print('Total Gallery Images : ', gallery_imgs.shape[0])\n",
    "print('Gallery Image Shape  : ', gallery_imgs[0].shape)"
   ]
  },
  {
   "cell_type": "markdown",
   "metadata": {},
   "source": [
    "## load Probe data"
   ]
  },
  {
   "cell_type": "code",
   "execution_count": 131,
   "metadata": {},
   "outputs": [
    {
     "name": "stdout",
     "output_type": "stream",
     "text": [
      "Total Probe Images :  301\n",
      "Probe Image Shape  :  (128, 64, 3)\n"
     ]
    }
   ],
   "source": [
    "probe_path = './Q2/Testing/Probe/'\n",
    "probe_imgs, probe_label = load_data(probe_path)\n",
    "print('Total Probe Images : ', probe_imgs.shape[0])\n",
    "print('Probe Image Shape  : ', probe_imgs[0].shape)"
   ]
  },
  {
   "cell_type": "markdown",
   "metadata": {},
   "source": [
    "## shuffle data"
   ]
  },
  {
   "cell_type": "code",
   "execution_count": 132,
   "metadata": {},
   "outputs": [],
   "source": [
    "def shuffle_data(x, y):\n",
    "    idx = list(range(x.shape[0]))\n",
    "    np.random.shuffle(idx)\n",
    "    return x[idx], y[idx]"
   ]
  },
  {
   "cell_type": "markdown",
   "metadata": {},
   "source": [
    "## Nearest Neighborhood"
   ]
  },
  {
   "cell_type": "markdown",
   "metadata": {},
   "source": [
    "#### get topk nearest neighborhood of each query image\n",
    "#### treat gallery images as query images and probe images as target images"
   ]
  },
  {
   "cell_type": "code",
   "execution_count": 180,
   "metadata": {},
   "outputs": [],
   "source": [
    "def l2_dist(x1, x2):\n",
    "    diff = np.expand_dims(x1, axis=1) - np.expand_dims(x2, axis=0)\n",
    "    if len(x1.shape) == 4:\n",
    "        dist = np.sum(np.square(diff), axis=(2, 3, 4))\n",
    "    else:\n",
    "        dist = np.sum(np.square(diff), axis=2)\n",
    "    return dist"
   ]
  },
  {
   "cell_type": "code",
   "execution_count": 187,
   "metadata": {},
   "outputs": [
    {
     "name": "stdout",
     "output_type": "stream",
     "text": [
      "Eculidian Distance :  (301, 301)\n"
     ]
    }
   ],
   "source": [
    "gallery_probe_dist = l2_dist(gallery_imgs, probe_imgs)\n",
    "print('Eculidian Distance : ', gallery_probe_dist.shape)"
   ]
  },
  {
   "cell_type": "markdown",
   "metadata": {},
   "source": [
    "### get topk nearest distance and corresponding index"
   ]
  },
  {
   "cell_type": "code",
   "execution_count": 152,
   "metadata": {},
   "outputs": [],
   "source": [
    "import torch\n",
    "import matplotlib.pyplot as plt"
   ]
  },
  {
   "cell_type": "code",
   "execution_count": 153,
   "metadata": {},
   "outputs": [],
   "source": [
    "def get_topk(eculid_dist, k):\n",
    "    dist_tensor = torch.from_numpy(eculid_dist.astype(np.float))\n",
    "    value, idx = torch.topk(dist_tensor, dim=1, k=k, largest=False)\n",
    "    return value.numpy(), idx.numpy()"
   ]
  },
  {
   "cell_type": "code",
   "execution_count": 154,
   "metadata": {},
   "outputs": [
    {
     "name": "stdout",
     "output_type": "stream",
     "text": [
      "Top k label shape :  (301, 50)\n"
     ]
    }
   ],
   "source": [
    "rank = 50\n",
    "min_dist, min_idx = get_topk(gallery_probe_dist, k=rank)\n",
    "print('Top k label shape : ', min_idx.shape)"
   ]
  },
  {
   "cell_type": "markdown",
   "metadata": {},
   "source": [
    "### calculate cmc"
   ]
  },
  {
   "cell_type": "code",
   "execution_count": 155,
   "metadata": {},
   "outputs": [],
   "source": [
    "def get_cmc(min_idx, gt_train, gt_test):\n",
    "    add_acc = list()\n",
    "    predict_label = np.zeros(min_idx.shape)\n",
    "    for i in range(min_idx.shape[0]):\n",
    "        predict_label[i, :] = gt_train[min_idx[i]]\n",
    "    acc_count = np.zeros(predict_label.shape)\n",
    "    for j in range(predict_label.shape[1]):\n",
    "        acc_count[:, j] = np.equal(predict_label[:, j].astype(int), gt_test.astype(int)).astype('float')\n",
    "        acc = np.sum(acc_count[:, 0: j + 1], axis=1)\n",
    "        acc[acc > 1] = 1\n",
    "        add_acc.append(np.mean(acc))\n",
    "    return add_acc"
   ]
  },
  {
   "cell_type": "code",
   "execution_count": 160,
   "metadata": {},
   "outputs": [
    {
     "name": "stdout",
     "output_type": "stream",
     "text": [
      "Top-1  Acc : 0.0997\n",
      "Top-5  Acc : 0.1395\n",
      "Top-10 Acc : 0.1794\n"
     ]
    }
   ],
   "source": [
    "cmc = get_cmc(min_idx, probe_label, gallery_label)\n",
    "top1, top5, top10 = cmc[0], cmc[4], cmc[9]\n",
    "print('Top-1  Acc : %.4f' % top1)\n",
    "print('Top-5  Acc : %.4f' % top5)\n",
    "print('Top-10 Acc : %.4f' % top10)"
   ]
  },
  {
   "cell_type": "code",
   "execution_count": 161,
   "metadata": {},
   "outputs": [
    {
     "data": {
      "image/png": "[encoded data removed]",
      "text/plain": [
       "<Figure size 432x288 with 1 Axes>"
      ]
     },
     "metadata": {},
     "output_type": "display_data"
    }
   ],
   "source": [
    "plt.plot(range(1, len(cmc) + 1), cmc, c='b')\n",
    "plt.scatter(range(1, len(cmc) + 1), cmc, marker='.', c='r')\n",
    "plt.legend([ 'fit curve', 'acc'])\n",
    "plt.xlabel('Rank')\n",
    "plt.ylabel('Accuracy')\n",
    "plt.grid(axis='y', ls='--')\n",
    "plt.title('KNN : Person Re-Identification CMC Curve')\n",
    "plt.show()"
   ]
  },
  {
   "cell_type": "markdown",
   "metadata": {},
   "source": [
    "## Deep Neural Network"
   ]
  },
  {
   "cell_type": "markdown",
   "metadata": {},
   "source": [
    "####  train a deep convolutional neural networks to classify training images, and then, extracting the feature map as image representations."
   ]
  },
  {
   "cell_type": "code",
   "execution_count": 195,
   "metadata": {
    "scrolled": true
   },
   "outputs": [
    {
     "name": "stdout",
     "output_type": "stream",
     "text": [
      "Requirement already satisfied: tensorflow==1.14.0 in d:\\anaconda\\lib\\site-packages (1.14.0)\n",
      "Requirement already satisfied: google-pasta>=0.1.6 in c:\\users\\senpei\\appdata\\roaming\\python\\python36\\site-packages (from tensorflow==1.14.0) (0.2.0)\n",
      "Requirement already satisfied: absl-py>=0.7.0 in d:\\anaconda\\lib\\site-packages (from tensorflow==1.14.0) (0.12.0)\n",
      "Requirement already satisfied: keras-applications>=1.0.6 in d:\\anaconda\\lib\\site-packages (from tensorflow==1.14.0) (1.0.8)\n",
      "Requirement already satisfied: numpy<2.0,>=1.14.5 in d:\\anaconda\\lib\\site-packages (from tensorflow==1.14.0) (1.19.5)\n",
      "Requirement already satisfied: wrapt>=1.11.1 in c:\\users\\senpei\\appdata\\roaming\\python\\python36\\site-packages (from tensorflow==1.14.0) (1.12.1)\n",
      "Requirement already satisfied: wheel>=0.26 in d:\\anaconda\\lib\\site-packages (from tensorflow==1.14.0) (0.31.1)\n",
      "Requirement already satisfied: protobuf>=3.6.1 in d:\\anaconda\\lib\\site-packages (from tensorflow==1.14.0) (3.15.6)\n",
      "Requirement already satisfied: six>=1.10.0 in c:\\users\\senpei\\appdata\\roaming\\python\\python36\\site-packages (from tensorflow==1.14.0) (1.15.0)\n",
      "Requirement already satisfied: grpcio>=1.8.6 in d:\\anaconda\\lib\\site-packages (from tensorflow==1.14.0) (1.36.1)\n",
      "Requirement already satisfied: keras-preprocessing>=1.0.5 in c:\\users\\senpei\\appdata\\roaming\\python\\python36\\site-packages (from tensorflow==1.14.0) (1.1.2)\n",
      "Requirement already satisfied: tensorflow-estimator<1.15.0rc0,>=1.14.0rc0 in d:\\anaconda\\lib\\site-packages (from tensorflow==1.14.0) (1.14.0)\n",
      "Requirement already satisfied: astor>=0.6.0 in d:\\anaconda\\lib\\site-packages (from tensorflow==1.14.0) (0.8.1)\n",
      "Collecting tensorboard<1.15.0,>=1.14.0\n",
      "  Using cached tensorboard-1.14.0-py3-none-any.whl (3.1 MB)\n",
      "Requirement already satisfied: termcolor>=1.1.0 in d:\\anaconda\\lib\\site-packages (from tensorflow==1.14.0) (1.1.0)\n",
      "Requirement already satisfied: gast>=0.2.0 in c:\\users\\senpei\\appdata\\roaming\\python\\python36\\site-packages (from tensorflow==1.14.0) (0.3.3)\n",
      "Requirement already satisfied: h5py in c:\\users\\senpei\\appdata\\roaming\\python\\python36\\site-packages (from keras-applications>=1.0.6->tensorflow==1.14.0) (2.10.0)\n",
      "Requirement already satisfied: setuptools>=41.0.0 in d:\\anaconda\\lib\\site-packages (from tensorboard<1.15.0,>=1.14.0->tensorflow==1.14.0) (54.2.0)\n",
      "Requirement already satisfied: markdown>=2.6.8 in d:\\anaconda\\lib\\site-packages (from tensorboard<1.15.0,>=1.14.0->tensorflow==1.14.0) (3.3.4)\n",
      "Requirement already satisfied: werkzeug>=0.11.15 in d:\\anaconda\\lib\\site-packages (from tensorboard<1.15.0,>=1.14.0->tensorflow==1.14.0) (0.14.1)\n",
      "Requirement already satisfied: importlib-metadata in d:\\anaconda\\lib\\site-packages (from markdown>=2.6.8->tensorboard<1.15.0,>=1.14.0->tensorflow==1.14.0) (3.7.3)\n",
      "Requirement already satisfied: zipp>=0.5 in d:\\anaconda\\lib\\site-packages (from importlib-metadata->markdown>=2.6.8->tensorboard<1.15.0,>=1.14.0->tensorflow==1.14.0) (3.4.1)\n",
      "Requirement already satisfied: typing-extensions>=3.6.4 in d:\\anaconda\\lib\\site-packages (from importlib-metadata->markdown>=2.6.8->tensorboard<1.15.0,>=1.14.0->tensorflow==1.14.0) (3.7.4.3)\n",
      "Installing collected packages: tensorboard\n",
      "  Attempting uninstall: tensorboard\n",
      "    Found existing installation: tensorboard 2.5.0\n",
      "    Uninstalling tensorboard-2.5.0:\n",
      "      Successfully uninstalled tensorboard-2.5.0\n",
      "Successfully installed tensorboard-1.14.0\n"
     ]
    },
    {
     "name": "stderr",
     "output_type": "stream",
     "text": [
      "WARNING: You are using pip version 21.0.1; however, version 21.1.1 is available.\n",
      "You should consider upgrading via the 'd:\\anaconda\\python.exe -m pip install --upgrade pip' command.\n"
     ]
    }
   ],
   "source": [
    "! pip install tensorflow==1.14.0"
   ]
  },
  {
   "cell_type": "code",
   "execution_count": 166,
   "metadata": {},
   "outputs": [],
   "source": [
    "import tensorflow as tf\n",
    "from resnet import resnet_v1\n",
    "from tensorflow.keras.utils import to_categorical"
   ]
  },
  {
   "cell_type": "code",
   "execution_count": 169,
   "metadata": {},
   "outputs": [
    {
     "name": "stdout",
     "output_type": "stream",
     "text": [
      "Model: \"model_2\"\n",
      "__________________________________________________________________________________________________\n",
      "Layer (type)                    Output Shape         Param #     Connected to                     \n",
      "==================================================================================================\n",
      "input_3 (InputLayer)            [(None, 128, 64, 3)] 0                                            \n",
      "__________________________________________________________________________________________________\n",
      "conv2d_42 (Conv2D)              (None, 128, 64, 16)  448         input_3[0][0]                    \n",
      "__________________________________________________________________________________________________\n",
      "batch_normalization_38 (BatchNo (None, 128, 64, 16)  64          conv2d_42[0][0]                  \n",
      "__________________________________________________________________________________________________\n",
      "activation_38 (Activation)      (None, 128, 64, 16)  0           batch_normalization_38[0][0]     \n",
      "__________________________________________________________________________________________________\n",
      "conv2d_43 (Conv2D)              (None, 128, 64, 16)  2320        activation_38[0][0]              \n",
      "__________________________________________________________________________________________________\n",
      "batch_normalization_39 (BatchNo (None, 128, 64, 16)  64          conv2d_43[0][0]                  \n",
      "__________________________________________________________________________________________________\n",
      "activation_39 (Activation)      (None, 128, 64, 16)  0           batch_normalization_39[0][0]     \n",
      "__________________________________________________________________________________________________\n",
      "conv2d_44 (Conv2D)              (None, 128, 64, 16)  2320        activation_39[0][0]              \n",
      "__________________________________________________________________________________________________\n",
      "batch_normalization_40 (BatchNo (None, 128, 64, 16)  64          conv2d_44[0][0]                  \n",
      "__________________________________________________________________________________________________\n",
      "add_18 (Add)                    (None, 128, 64, 16)  0           activation_38[0][0]              \n",
      "                                                                 batch_normalization_40[0][0]     \n",
      "__________________________________________________________________________________________________\n",
      "activation_40 (Activation)      (None, 128, 64, 16)  0           add_18[0][0]                     \n",
      "__________________________________________________________________________________________________\n",
      "conv2d_45 (Conv2D)              (None, 128, 64, 16)  2320        activation_40[0][0]              \n",
      "__________________________________________________________________________________________________\n",
      "batch_normalization_41 (BatchNo (None, 128, 64, 16)  64          conv2d_45[0][0]                  \n",
      "__________________________________________________________________________________________________\n",
      "activation_41 (Activation)      (None, 128, 64, 16)  0           batch_normalization_41[0][0]     \n",
      "__________________________________________________________________________________________________\n",
      "conv2d_46 (Conv2D)              (None, 128, 64, 16)  2320        activation_41[0][0]              \n",
      "__________________________________________________________________________________________________\n",
      "batch_normalization_42 (BatchNo (None, 128, 64, 16)  64          conv2d_46[0][0]                  \n",
      "__________________________________________________________________________________________________\n",
      "add_19 (Add)                    (None, 128, 64, 16)  0           activation_40[0][0]              \n",
      "                                                                 batch_normalization_42[0][0]     \n",
      "__________________________________________________________________________________________________\n",
      "activation_42 (Activation)      (None, 128, 64, 16)  0           add_19[0][0]                     \n",
      "__________________________________________________________________________________________________\n",
      "conv2d_47 (Conv2D)              (None, 128, 64, 16)  2320        activation_42[0][0]              \n",
      "__________________________________________________________________________________________________\n",
      "batch_normalization_43 (BatchNo (None, 128, 64, 16)  64          conv2d_47[0][0]                  \n",
      "__________________________________________________________________________________________________\n",
      "activation_43 (Activation)      (None, 128, 64, 16)  0           batch_normalization_43[0][0]     \n",
      "__________________________________________________________________________________________________\n",
      "conv2d_48 (Conv2D)              (None, 128, 64, 16)  2320        activation_43[0][0]              \n",
      "__________________________________________________________________________________________________\n",
      "batch_normalization_44 (BatchNo (None, 128, 64, 16)  64          conv2d_48[0][0]                  \n",
      "__________________________________________________________________________________________________\n",
      "add_20 (Add)                    (None, 128, 64, 16)  0           activation_42[0][0]              \n",
      "                                                                 batch_normalization_44[0][0]     \n",
      "__________________________________________________________________________________________________\n",
      "activation_44 (Activation)      (None, 128, 64, 16)  0           add_20[0][0]                     \n",
      "__________________________________________________________________________________________________\n",
      "conv2d_49 (Conv2D)              (None, 64, 32, 32)   4640        activation_44[0][0]              \n",
      "__________________________________________________________________________________________________\n",
      "batch_normalization_45 (BatchNo (None, 64, 32, 32)   128         conv2d_49[0][0]                  \n",
      "__________________________________________________________________________________________________\n",
      "activation_45 (Activation)      (None, 64, 32, 32)   0           batch_normalization_45[0][0]     \n",
      "__________________________________________________________________________________________________\n",
      "conv2d_50 (Conv2D)              (None, 64, 32, 32)   9248        activation_45[0][0]              \n",
      "__________________________________________________________________________________________________\n",
      "conv2d_51 (Conv2D)              (None, 64, 32, 32)   544         activation_44[0][0]              \n",
      "__________________________________________________________________________________________________\n",
      "batch_normalization_46 (BatchNo (None, 64, 32, 32)   128         conv2d_50[0][0]                  \n",
      "__________________________________________________________________________________________________\n",
      "add_21 (Add)                    (None, 64, 32, 32)   0           conv2d_51[0][0]                  \n",
      "                                                                 batch_normalization_46[0][0]     \n",
      "__________________________________________________________________________________________________\n",
      "activation_46 (Activation)      (None, 64, 32, 32)   0           add_21[0][0]                     \n",
      "__________________________________________________________________________________________________\n",
      "conv2d_52 (Conv2D)              (None, 64, 32, 32)   9248        activation_46[0][0]              \n",
      "__________________________________________________________________________________________________\n",
      "batch_normalization_47 (BatchNo (None, 64, 32, 32)   128         conv2d_52[0][0]                  \n",
      "__________________________________________________________________________________________________\n",
      "activation_47 (Activation)      (None, 64, 32, 32)   0           batch_normalization_47[0][0]     \n",
      "__________________________________________________________________________________________________\n",
      "conv2d_53 (Conv2D)              (None, 64, 32, 32)   9248        activation_47[0][0]              \n",
      "__________________________________________________________________________________________________\n",
      "batch_normalization_48 (BatchNo (None, 64, 32, 32)   128         conv2d_53[0][0]                  \n",
      "__________________________________________________________________________________________________\n",
      "add_22 (Add)                    (None, 64, 32, 32)   0           activation_46[0][0]              \n",
      "                                                                 batch_normalization_48[0][0]     \n",
      "__________________________________________________________________________________________________\n",
      "activation_48 (Activation)      (None, 64, 32, 32)   0           add_22[0][0]                     \n",
      "__________________________________________________________________________________________________\n",
      "conv2d_54 (Conv2D)              (None, 64, 32, 32)   9248        activation_48[0][0]              \n",
      "__________________________________________________________________________________________________\n",
      "batch_normalization_49 (BatchNo (None, 64, 32, 32)   128         conv2d_54[0][0]                  \n",
      "__________________________________________________________________________________________________\n",
      "activation_49 (Activation)      (None, 64, 32, 32)   0           batch_normalization_49[0][0]     \n",
      "__________________________________________________________________________________________________\n",
      "conv2d_55 (Conv2D)              (None, 64, 32, 32)   9248        activation_49[0][0]              \n",
      "__________________________________________________________________________________________________\n",
      "batch_normalization_50 (BatchNo (None, 64, 32, 32)   128         conv2d_55[0][0]                  \n",
      "__________________________________________________________________________________________________\n",
      "add_23 (Add)                    (None, 64, 32, 32)   0           activation_48[0][0]              \n",
      "                                                                 batch_normalization_50[0][0]     \n",
      "__________________________________________________________________________________________________\n",
      "activation_50 (Activation)      (None, 64, 32, 32)   0           add_23[0][0]                     \n",
      "__________________________________________________________________________________________________\n",
      "conv2d_56 (Conv2D)              (None, 32, 16, 64)   18496       activation_50[0][0]              \n",
      "__________________________________________________________________________________________________\n",
      "batch_normalization_51 (BatchNo (None, 32, 16, 64)   256         conv2d_56[0][0]                  \n",
      "__________________________________________________________________________________________________\n",
      "activation_51 (Activation)      (None, 32, 16, 64)   0           batch_normalization_51[0][0]     \n",
      "__________________________________________________________________________________________________\n",
      "conv2d_57 (Conv2D)              (None, 32, 16, 64)   36928       activation_51[0][0]              \n",
      "__________________________________________________________________________________________________\n",
      "conv2d_58 (Conv2D)              (None, 32, 16, 64)   2112        activation_50[0][0]              \n",
      "__________________________________________________________________________________________________\n",
      "batch_normalization_52 (BatchNo (None, 32, 16, 64)   256         conv2d_57[0][0]                  \n",
      "__________________________________________________________________________________________________\n",
      "add_24 (Add)                    (None, 32, 16, 64)   0           conv2d_58[0][0]                  \n",
      "                                                                 batch_normalization_52[0][0]     \n",
      "__________________________________________________________________________________________________\n",
      "activation_52 (Activation)      (None, 32, 16, 64)   0           add_24[0][0]                     \n",
      "__________________________________________________________________________________________________\n",
      "conv2d_59 (Conv2D)              (None, 32, 16, 64)   36928       activation_52[0][0]              \n",
      "__________________________________________________________________________________________________\n",
      "batch_normalization_53 (BatchNo (None, 32, 16, 64)   256         conv2d_59[0][0]                  \n",
      "__________________________________________________________________________________________________\n",
      "activation_53 (Activation)      (None, 32, 16, 64)   0           batch_normalization_53[0][0]     \n",
      "__________________________________________________________________________________________________\n",
      "conv2d_60 (Conv2D)              (None, 32, 16, 64)   36928       activation_53[0][0]              \n",
      "__________________________________________________________________________________________________\n",
      "batch_normalization_54 (BatchNo (None, 32, 16, 64)   256         conv2d_60[0][0]                  \n",
      "__________________________________________________________________________________________________\n",
      "add_25 (Add)                    (None, 32, 16, 64)   0           activation_52[0][0]              \n",
      "                                                                 batch_normalization_54[0][0]     \n",
      "__________________________________________________________________________________________________\n",
      "activation_54 (Activation)      (None, 32, 16, 64)   0           add_25[0][0]                     \n",
      "__________________________________________________________________________________________________\n",
      "conv2d_61 (Conv2D)              (None, 32, 16, 64)   36928       activation_54[0][0]              \n",
      "__________________________________________________________________________________________________\n",
      "batch_normalization_55 (BatchNo (None, 32, 16, 64)   256         conv2d_61[0][0]                  \n",
      "__________________________________________________________________________________________________\n",
      "activation_55 (Activation)      (None, 32, 16, 64)   0           batch_normalization_55[0][0]     \n",
      "__________________________________________________________________________________________________\n",
      "conv2d_62 (Conv2D)              (None, 32, 16, 64)   36928       activation_55[0][0]              \n",
      "__________________________________________________________________________________________________\n",
      "batch_normalization_56 (BatchNo (None, 32, 16, 64)   256         conv2d_62[0][0]                  \n",
      "__________________________________________________________________________________________________\n",
      "add_26 (Add)                    (None, 32, 16, 64)   0           activation_54[0][0]              \n",
      "                                                                 batch_normalization_56[0][0]     \n",
      "__________________________________________________________________________________________________\n",
      "activation_56 (Activation)      (None, 32, 16, 64)   0           add_26[0][0]                     \n",
      "__________________________________________________________________________________________________\n",
      "average_pooling2d_2 (AveragePoo (None, 4, 2, 64)     0           activation_56[0][0]              \n",
      "__________________________________________________________________________________________________\n",
      "flatten_2 (Flatten)             (None, 512)          0           average_pooling2d_2[0][0]        \n",
      "__________________________________________________________________________________________________\n",
      "dense_2 (Dense)                 (None, 300)          153900      flatten_2[0][0]                  \n",
      "==================================================================================================\n",
      "Total params: 427,692\n",
      "Trainable params: 426,316\n",
      "Non-trainable params: 1,376\n",
      "__________________________________________________________________________________________________\n"
     ]
    }
   ],
   "source": [
    "model = resnet_v1(input_shape=(128, 64, 3), depth=20, num_classes=300)\n",
    "model.compile(optimizer='adam', loss='categorical_crossentropy', metrics=['acc'])\n",
    "model.summary()"
   ]
  },
  {
   "cell_type": "code",
   "execution_count": 170,
   "metadata": {},
   "outputs": [],
   "source": [
    "# pre-processing training data\n",
    "x = train_imgs / 127.5 - 1.0\n",
    "y = to_categorical(train_labels, 300)"
   ]
  },
  {
   "cell_type": "code",
   "execution_count": 171,
   "metadata": {},
   "outputs": [
    {
     "name": "stdout",
     "output_type": "stream",
     "text": [
      "Epoch 1/20\n",
      "5933/5933 [==============================] - 462s 78ms/sample - loss: 5.3440 - acc: 0.0863\n",
      "Epoch 2/20\n",
      "5933/5933 [==============================] - 458s 77ms/sample - loss: 2.7811 - acc: 0.3865\n",
      "Epoch 3/20\n",
      "5933/5933 [==============================] - 458s 77ms/sample - loss: 1.6248 - acc: 0.6110\n",
      "Epoch 4/20\n",
      "5933/5933 [==============================] - 460s 78ms/sample - loss: 1.0904 - acc: 0.7389\n",
      "Epoch 5/20\n",
      "5933/5933 [==============================] - 459s 77ms/sample - loss: 0.7867 - acc: 0.8138\n",
      "Epoch 6/20\n",
      "5933/5933 [==============================] - 457s 77ms/sample - loss: 0.6041 - acc: 0.8613\n",
      "Epoch 7/20\n",
      "5933/5933 [==============================] - 458s 77ms/sample - loss: 0.5078 - acc: 0.8958\n",
      "Epoch 8/20\n",
      "5933/5933 [==============================] - 458s 77ms/sample - loss: 0.4533 - acc: 0.9061\n",
      "Epoch 9/20\n",
      "5933/5933 [==============================] - 457s 77ms/sample - loss: 0.3791 - acc: 0.9321\n",
      "Epoch 10/20\n",
      "5933/5933 [==============================] - 455s 77ms/sample - loss: 0.3620 - acc: 0.9368\n",
      "Epoch 11/20\n",
      "5933/5933 [==============================] - 455s 77ms/sample - loss: 0.3013 - acc: 0.9542\n",
      "Epoch 12/20\n",
      "5933/5933 [==============================] - 460s 78ms/sample - loss: 0.3149 - acc: 0.9474\n",
      "Epoch 13/20\n",
      "5933/5933 [==============================] - 461s 78ms/sample - loss: 0.2644 - acc: 0.9631\n",
      "Epoch 14/20\n",
      "5933/5933 [==============================] - 462s 78ms/sample - loss: 0.2813 - acc: 0.9535\n",
      "Epoch 15/20\n",
      "5933/5933 [==============================] - 460s 78ms/sample - loss: 0.2370 - acc: 0.9707\n",
      "Epoch 16/20\n",
      "5933/5933 [==============================] - 467s 79ms/sample - loss: 0.2292 - acc: 0.9703\n",
      "Epoch 17/20\n",
      "5933/5933 [==============================] - 463s 78ms/sample - loss: 0.2514 - acc: 0.9653\n",
      "Epoch 18/20\n",
      "5933/5933 [==============================] - 458s 77ms/sample - loss: 0.2098 - acc: 0.9756\n",
      "Epoch 19/20\n",
      "5933/5933 [==============================] - 456s 77ms/sample - loss: 0.2260 - acc: 0.9693\n",
      "Epoch 20/20\n",
      "5933/5933 [==============================] - 457s 77ms/sample - loss: 0.2278 - acc: 0.9686\n"
     ]
    }
   ],
   "source": [
    "model.fit(x, y, batch_size=12, epochs=20, verbose=1, shuffle=True)\n",
    "model.save('./resnet.h5')"
   ]
  },
  {
   "cell_type": "markdown",
   "metadata": {},
   "source": [
    "### feature extraction"
   ]
  },
  {
   "cell_type": "markdown",
   "metadata": {},
   "source": [
    "#### extract the flattened last feature map as image representations"
   ]
  },
  {
   "cell_type": "code",
   "execution_count": 172,
   "metadata": {},
   "outputs": [],
   "source": [
    "from tensorflow.keras.models import Model"
   ]
  },
  {
   "cell_type": "code",
   "execution_count": 173,
   "metadata": {},
   "outputs": [],
   "source": [
    "def feature_extractor(resnet_model):\n",
    "    inputs = resnet_model.input\n",
    "    outputs = resnet_model.get_layer(name='flatten_2').output\n",
    "    extractor = Model(inputs=inputs, outputs=outputs)\n",
    "    return extractor"
   ]
  },
  {
   "cell_type": "code",
   "execution_count": 177,
   "metadata": {},
   "outputs": [
    {
     "name": "stdout",
     "output_type": "stream",
     "text": [
      "Model: \"model_4\"\n",
      "__________________________________________________________________________________________________\n",
      "Layer (type)                    Output Shape         Param #     Connected to                     \n",
      "==================================================================================================\n",
      "input_3 (InputLayer)            [(None, 128, 64, 3)] 0                                            \n",
      "__________________________________________________________________________________________________\n",
      "conv2d_42 (Conv2D)              (None, 128, 64, 16)  448         input_3[0][0]                    \n",
      "__________________________________________________________________________________________________\n",
      "batch_normalization_38 (BatchNo (None, 128, 64, 16)  64          conv2d_42[0][0]                  \n",
      "__________________________________________________________________________________________________\n",
      "activation_38 (Activation)      (None, 128, 64, 16)  0           batch_normalization_38[0][0]     \n",
      "__________________________________________________________________________________________________\n",
      "conv2d_43 (Conv2D)              (None, 128, 64, 16)  2320        activation_38[0][0]              \n",
      "__________________________________________________________________________________________________\n",
      "batch_normalization_39 (BatchNo (None, 128, 64, 16)  64          conv2d_43[0][0]                  \n",
      "__________________________________________________________________________________________________\n",
      "activation_39 (Activation)      (None, 128, 64, 16)  0           batch_normalization_39[0][0]     \n",
      "__________________________________________________________________________________________________\n",
      "conv2d_44 (Conv2D)              (None, 128, 64, 16)  2320        activation_39[0][0]              \n",
      "__________________________________________________________________________________________________\n",
      "batch_normalization_40 (BatchNo (None, 128, 64, 16)  64          conv2d_44[0][0]                  \n",
      "__________________________________________________________________________________________________\n",
      "add_18 (Add)                    (None, 128, 64, 16)  0           activation_38[0][0]              \n",
      "                                                                 batch_normalization_40[0][0]     \n",
      "__________________________________________________________________________________________________\n",
      "activation_40 (Activation)      (None, 128, 64, 16)  0           add_18[0][0]                     \n",
      "__________________________________________________________________________________________________\n",
      "conv2d_45 (Conv2D)              (None, 128, 64, 16)  2320        activation_40[0][0]              \n",
      "__________________________________________________________________________________________________\n",
      "batch_normalization_41 (BatchNo (None, 128, 64, 16)  64          conv2d_45[0][0]                  \n",
      "__________________________________________________________________________________________________\n",
      "activation_41 (Activation)      (None, 128, 64, 16)  0           batch_normalization_41[0][0]     \n",
      "__________________________________________________________________________________________________\n",
      "conv2d_46 (Conv2D)              (None, 128, 64, 16)  2320        activation_41[0][0]              \n",
      "__________________________________________________________________________________________________\n",
      "batch_normalization_42 (BatchNo (None, 128, 64, 16)  64          conv2d_46[0][0]                  \n",
      "__________________________________________________________________________________________________\n",
      "add_19 (Add)                    (None, 128, 64, 16)  0           activation_40[0][0]              \n",
      "                                                                 batch_normalization_42[0][0]     \n",
      "__________________________________________________________________________________________________\n",
      "activation_42 (Activation)      (None, 128, 64, 16)  0           add_19[0][0]                     \n",
      "__________________________________________________________________________________________________\n",
      "conv2d_47 (Conv2D)              (None, 128, 64, 16)  2320        activation_42[0][0]              \n",
      "__________________________________________________________________________________________________\n",
      "batch_normalization_43 (BatchNo (None, 128, 64, 16)  64          conv2d_47[0][0]                  \n",
      "__________________________________________________________________________________________________\n",
      "activation_43 (Activation)      (None, 128, 64, 16)  0           batch_normalization_43[0][0]     \n",
      "__________________________________________________________________________________________________\n",
      "conv2d_48 (Conv2D)              (None, 128, 64, 16)  2320        activation_43[0][0]              \n",
      "__________________________________________________________________________________________________\n",
      "batch_normalization_44 (BatchNo (None, 128, 64, 16)  64          conv2d_48[0][0]                  \n",
      "__________________________________________________________________________________________________\n",
      "add_20 (Add)                    (None, 128, 64, 16)  0           activation_42[0][0]              \n",
      "                                                                 batch_normalization_44[0][0]     \n",
      "__________________________________________________________________________________________________\n",
      "activation_44 (Activation)      (None, 128, 64, 16)  0           add_20[0][0]                     \n",
      "__________________________________________________________________________________________________\n",
      "conv2d_49 (Conv2D)              (None, 64, 32, 32)   4640        activation_44[0][0]              \n",
      "__________________________________________________________________________________________________\n",
      "batch_normalization_45 (BatchNo (None, 64, 32, 32)   128         conv2d_49[0][0]                  \n",
      "__________________________________________________________________________________________________\n",
      "activation_45 (Activation)      (None, 64, 32, 32)   0           batch_normalization_45[0][0]     \n",
      "__________________________________________________________________________________________________\n",
      "conv2d_50 (Conv2D)              (None, 64, 32, 32)   9248        activation_45[0][0]              \n",
      "__________________________________________________________________________________________________\n",
      "conv2d_51 (Conv2D)              (None, 64, 32, 32)   544         activation_44[0][0]              \n",
      "__________________________________________________________________________________________________\n",
      "batch_normalization_46 (BatchNo (None, 64, 32, 32)   128         conv2d_50[0][0]                  \n",
      "__________________________________________________________________________________________________\n",
      "add_21 (Add)                    (None, 64, 32, 32)   0           conv2d_51[0][0]                  \n",
      "                                                                 batch_normalization_46[0][0]     \n",
      "__________________________________________________________________________________________________\n",
      "activation_46 (Activation)      (None, 64, 32, 32)   0           add_21[0][0]                     \n",
      "__________________________________________________________________________________________________\n",
      "conv2d_52 (Conv2D)              (None, 64, 32, 32)   9248        activation_46[0][0]              \n",
      "__________________________________________________________________________________________________\n",
      "batch_normalization_47 (BatchNo (None, 64, 32, 32)   128         conv2d_52[0][0]                  \n",
      "__________________________________________________________________________________________________\n",
      "activation_47 (Activation)      (None, 64, 32, 32)   0           batch_normalization_47[0][0]     \n",
      "__________________________________________________________________________________________________\n",
      "conv2d_53 (Conv2D)              (None, 64, 32, 32)   9248        activation_47[0][0]              \n",
      "__________________________________________________________________________________________________\n",
      "batch_normalization_48 (BatchNo (None, 64, 32, 32)   128         conv2d_53[0][0]                  \n",
      "__________________________________________________________________________________________________\n",
      "add_22 (Add)                    (None, 64, 32, 32)   0           activation_46[0][0]              \n",
      "                                                                 batch_normalization_48[0][0]     \n",
      "__________________________________________________________________________________________________\n",
      "activation_48 (Activation)      (None, 64, 32, 32)   0           add_22[0][0]                     \n",
      "__________________________________________________________________________________________________\n",
      "conv2d_54 (Conv2D)              (None, 64, 32, 32)   9248        activation_48[0][0]              \n",
      "__________________________________________________________________________________________________\n",
      "batch_normalization_49 (BatchNo (None, 64, 32, 32)   128         conv2d_54[0][0]                  \n",
      "__________________________________________________________________________________________________\n",
      "activation_49 (Activation)      (None, 64, 32, 32)   0           batch_normalization_49[0][0]     \n",
      "__________________________________________________________________________________________________\n",
      "conv2d_55 (Conv2D)              (None, 64, 32, 32)   9248        activation_49[0][0]              \n",
      "__________________________________________________________________________________________________\n",
      "batch_normalization_50 (BatchNo (None, 64, 32, 32)   128         conv2d_55[0][0]                  \n",
      "__________________________________________________________________________________________________\n",
      "add_23 (Add)                    (None, 64, 32, 32)   0           activation_48[0][0]              \n",
      "                                                                 batch_normalization_50[0][0]     \n",
      "__________________________________________________________________________________________________\n",
      "activation_50 (Activation)      (None, 64, 32, 32)   0           add_23[0][0]                     \n",
      "__________________________________________________________________________________________________\n",
      "conv2d_56 (Conv2D)              (None, 32, 16, 64)   18496       activation_50[0][0]              \n",
      "__________________________________________________________________________________________________\n",
      "batch_normalization_51 (BatchNo (None, 32, 16, 64)   256         conv2d_56[0][0]                  \n",
      "__________________________________________________________________________________________________\n",
      "activation_51 (Activation)      (None, 32, 16, 64)   0           batch_normalization_51[0][0]     \n",
      "__________________________________________________________________________________________________\n",
      "conv2d_57 (Conv2D)              (None, 32, 16, 64)   36928       activation_51[0][0]              \n",
      "__________________________________________________________________________________________________\n",
      "conv2d_58 (Conv2D)              (None, 32, 16, 64)   2112        activation_50[0][0]              \n",
      "__________________________________________________________________________________________________\n",
      "batch_normalization_52 (BatchNo (None, 32, 16, 64)   256         conv2d_57[0][0]                  \n",
      "__________________________________________________________________________________________________\n",
      "add_24 (Add)                    (None, 32, 16, 64)   0           conv2d_58[0][0]                  \n",
      "                                                                 batch_normalization_52[0][0]     \n",
      "__________________________________________________________________________________________________\n",
      "activation_52 (Activation)      (None, 32, 16, 64)   0           add_24[0][0]                     \n",
      "__________________________________________________________________________________________________\n",
      "conv2d_59 (Conv2D)              (None, 32, 16, 64)   36928       activation_52[0][0]              \n",
      "__________________________________________________________________________________________________\n",
      "batch_normalization_53 (BatchNo (None, 32, 16, 64)   256         conv2d_59[0][0]                  \n",
      "__________________________________________________________________________________________________\n",
      "activation_53 (Activation)      (None, 32, 16, 64)   0           batch_normalization_53[0][0]     \n",
      "__________________________________________________________________________________________________\n",
      "conv2d_60 (Conv2D)              (None, 32, 16, 64)   36928       activation_53[0][0]              \n",
      "__________________________________________________________________________________________________\n",
      "batch_normalization_54 (BatchNo (None, 32, 16, 64)   256         conv2d_60[0][0]                  \n",
      "__________________________________________________________________________________________________\n",
      "add_25 (Add)                    (None, 32, 16, 64)   0           activation_52[0][0]              \n",
      "                                                                 batch_normalization_54[0][0]     \n",
      "__________________________________________________________________________________________________\n",
      "activation_54 (Activation)      (None, 32, 16, 64)   0           add_25[0][0]                     \n",
      "__________________________________________________________________________________________________\n",
      "conv2d_61 (Conv2D)              (None, 32, 16, 64)   36928       activation_54[0][0]              \n",
      "__________________________________________________________________________________________________\n",
      "batch_normalization_55 (BatchNo (None, 32, 16, 64)   256         conv2d_61[0][0]                  \n",
      "__________________________________________________________________________________________________\n",
      "activation_55 (Activation)      (None, 32, 16, 64)   0           batch_normalization_55[0][0]     \n",
      "__________________________________________________________________________________________________\n",
      "conv2d_62 (Conv2D)              (None, 32, 16, 64)   36928       activation_55[0][0]              \n",
      "__________________________________________________________________________________________________\n",
      "batch_normalization_56 (BatchNo (None, 32, 16, 64)   256         conv2d_62[0][0]                  \n",
      "__________________________________________________________________________________________________\n",
      "add_26 (Add)                    (None, 32, 16, 64)   0           activation_54[0][0]              \n",
      "                                                                 batch_normalization_56[0][0]     \n",
      "__________________________________________________________________________________________________\n",
      "activation_56 (Activation)      (None, 32, 16, 64)   0           add_26[0][0]                     \n",
      "__________________________________________________________________________________________________\n",
      "average_pooling2d_2 (AveragePoo (None, 4, 2, 64)     0           activation_56[0][0]              \n",
      "__________________________________________________________________________________________________\n",
      "flatten_2 (Flatten)             (None, 512)          0           average_pooling2d_2[0][0]        \n",
      "==================================================================================================\n",
      "Total params: 273,792\n",
      "Trainable params: 272,416\n",
      "Non-trainable params: 1,376\n",
      "__________________________________________________________________________________________________\n"
     ]
    }
   ],
   "source": [
    "extractor = feature_extractor(model)\n",
    "extractor.summary()"
   ]
  },
  {
   "cell_type": "markdown",
   "metadata": {},
   "source": [
    "#### extract features of Gallery images and Probe features"
   ]
  },
  {
   "cell_type": "code",
   "execution_count": 178,
   "metadata": {},
   "outputs": [
    {
     "name": "stdout",
     "output_type": "stream",
     "text": [
      "Gallery features shape :  (301, 512)\n",
      "Probe features shape :  (301, 512)\n"
     ]
    }
   ],
   "source": [
    "gallery_features = extractor.predict(gallery_imgs / 127.5 - 1.0)\n",
    "probe_features = extractor.predict(probe_imgs / 127.5 - 1.0)\n",
    "print('Gallery features shape : ', gallery_features.shape)\n",
    "print('Probe features shape : ', probe_features.shape)"
   ]
  },
  {
   "cell_type": "markdown",
   "metadata": {},
   "source": [
    "#### calculate L2_distance between gallery features and probe features"
   ]
  },
  {
   "cell_type": "code",
   "execution_count": 181,
   "metadata": {},
   "outputs": [
    {
     "name": "stdout",
     "output_type": "stream",
     "text": [
      "Eculidian Distance between Extracted Features:  (301, 301)\n"
     ]
    }
   ],
   "source": [
    "gallery_probe_feature_dist = l2_dist(gallery_features, probe_features)\n",
    "print('Eculidian Distance between Extracted Features: ', gallery_probe_feature_dist.shape)"
   ]
  },
  {
   "cell_type": "markdown",
   "metadata": {},
   "source": [
    "#### calculate topk match pairs"
   ]
  },
  {
   "cell_type": "code",
   "execution_count": 192,
   "metadata": {},
   "outputs": [
    {
     "name": "stdout",
     "output_type": "stream",
     "text": [
      "Top k label shape :  (301, 80)\n"
     ]
    }
   ],
   "source": [
    "rank = 80\n",
    "min_dist, min_idx = get_topk(gallery_probe_feature_dist, k=rank)\n",
    "print('Top k label shape : ', min_idx.shape)"
   ]
  },
  {
   "cell_type": "markdown",
   "metadata": {},
   "source": [
    "#### calculate CMC"
   ]
  },
  {
   "cell_type": "code",
   "execution_count": 193,
   "metadata": {},
   "outputs": [
    {
     "name": "stdout",
     "output_type": "stream",
     "text": [
      "Top-1  Acc : 0.3156\n",
      "Top-5  Acc : 0.5216\n",
      "Top-10 Acc : 0.6213\n"
     ]
    }
   ],
   "source": [
    "cmc = get_cmc(min_idx, probe_label, gallery_label)\n",
    "top1, top5, top10 = cmc[0], cmc[4], cmc[9]\n",
    "print('Top-1  Acc : %.4f' % top1)\n",
    "print('Top-5  Acc : %.4f' % top5)\n",
    "print('Top-10 Acc : %.4f' % top10)"
   ]
  },
  {
   "cell_type": "markdown",
   "metadata": {},
   "source": [
    "#### draw CMC Curve"
   ]
  },
  {
   "cell_type": "code",
   "execution_count": 194,
   "metadata": {},
   "outputs": [
    {
     "data": {
      "image/png": "[encoded data removed]",
      "text/plain": [
       "<Figure size 432x288 with 1 Axes>"
      ]
     },
     "metadata": {},
     "output_type": "display_data"
    }
   ],
   "source": [
    "plt.plot(range(1, len(cmc) + 1), cmc, c='b')\n",
    "plt.scatter(range(1, len(cmc) + 1), cmc, marker='.', c='r')\n",
    "plt.legend([ 'fit curve', 'acc point'])\n",
    "plt.xlabel('Rank')\n",
    "plt.ylabel('Accuracy')\n",
    "plt.grid(axis='y', ls='--')\n",
    "plt.title('ResNet Feature Extractor CMC Curve')\n",
    "plt.show()"
   ]
  },
  {
   "cell_type": "markdown",
   "metadata": {},
   "source": [
    "## Comparision of deep and non-deep methods"
   ]
  },
  {
   "cell_type": "markdown",
   "metadata": {},
   "source": [
    "#### Strengths  : Deep CNN can achieve higher accuracy compared with the non-deep methods.\n",
    "#### Weakness : The training of CNN is expensive and time-cost compared with the non-deep methods."
   ]
  },
  {
   "cell_type": "code",
   "execution_count": null,
   "metadata": {},
   "outputs": [],
   "source": []
  }
 ],
 "metadata": {
  "kernelspec": {
   "display_name": "Python 3",
   "language": "python",
   "name": "python3"
  },
  "language_info": {
   "codemirror_mode": {
    "name": "ipython",
    "version": 3
   },
   "file_extension": ".py",
   "mimetype": "text/x-python",
   "name": "python",
   "nbconvert_exporter": "python",
   "pygments_lexer": "ipython3",
   "version": "3.6.5"
  }
 },
 "nbformat": 4,
 "nbformat_minor": 2
}
